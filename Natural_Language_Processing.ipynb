{
 "cells": [
  {
   "cell_type": "markdown",
   "metadata": {
    "id": "Kx5AoNgilryJ"
   },
   "source": [
    "# **Assignment 5: NLP**"
   ]
  },
  {
   "cell_type": "markdown",
   "metadata": {
    "id": "PQsKcnRvljYN"
   },
   "source": [
    "### Instructions\n",
    "\n",
    "1) Please submit the .ipynb and .pdf file to gradescope\n",
    "\n",
    "2) Please include your Name and UNI below."
   ]
  },
  {
   "cell_type": "markdown",
   "metadata": {
    "id": "ZnSEK7WKly7S"
   },
   "source": [
    "### Name: Ruoheng Du\n",
    "### UNI: rd3165"
   ]
  },
  {
   "cell_type": "markdown",
   "metadata": {
    "id": "9UGiWUu7oXa0"
   },
   "source": [
    "### Natural Language Processing\n",
    "We will train a supervised training model to predict if a tweet has a positive or negative sentiment."
   ]
  },
  {
   "cell_type": "markdown",
   "metadata": {
    "id": "5_RUn3PwobVK"
   },
   "source": [
    "####  **Dataset loading & dev/test splits**"
   ]
  },
  {
   "cell_type": "markdown",
   "metadata": {
    "id": "M5GfvWtKof_l"
   },
   "source": [
    "**1.1) Load the twitter dataset from NLTK library**"
   ]
  },
  {
   "cell_type": "code",
   "execution_count": 11,
   "metadata": {
    "colab": {
     "base_uri": "https://localhost:8080/"
    },
    "id": "7gPgrpEQnjzf",
    "outputId": "66a91684-962e-49b1-8423-fd6d1e82c436"
   },
   "outputs": [
    {
     "name": "stderr",
     "output_type": "stream",
     "text": [
      "[nltk_data] Downloading package twitter_samples to /root/nltk_data...\n",
      "[nltk_data]   Package twitter_samples is already up-to-date!\n",
      "[nltk_data] Downloading package punkt to /root/nltk_data...\n",
      "[nltk_data]   Package punkt is already up-to-date!\n",
      "[nltk_data] Downloading package punkt_tab to /root/nltk_data...\n",
      "[nltk_data]   Unzipping tokenizers/punkt_tab.zip.\n",
      "[nltk_data] Downloading package stopwords to /root/nltk_data...\n",
      "[nltk_data]   Package stopwords is already up-to-date!\n"
     ]
    }
   ],
   "source": [
    "import nltk\n",
    "nltk.download('twitter_samples')\n",
    "from nltk.corpus import twitter_samples\n",
    "nltk.download('punkt')\n",
    "nltk.download('punkt_tab')\n",
    "nltk.download('stopwords')\n",
    "\n",
    "import warnings\n",
    "warnings.filterwarnings(\"ignore\")\n",
    "\n",
    "from nltk.corpus import stopwords\n",
    "stop = stopwords.words('english')\n",
    "import pandas as pd\n",
    "import string\n",
    "import re\n",
    "from sklearn.model_selection import train_test_split\n",
    "from nltk.stem import PorterStemmer\n",
    "from nltk.tokenize import word_tokenize\n",
    "from sklearn.feature_extraction.text import CountVectorizer\n",
    "from sklearn.linear_model import LogisticRegressionCV\n",
    "from sklearn.feature_extraction.text import TfidfVectorizer\n",
    "from sklearn.metrics import classification_report"
   ]
  },
  {
   "cell_type": "markdown",
   "metadata": {
    "id": "auiPjjzaop_I"
   },
   "source": [
    "**1.2) Load the positive & negative tweets**"
   ]
  },
  {
   "cell_type": "code",
   "execution_count": 2,
   "metadata": {
    "id": "AY5VaIAUok46"
   },
   "outputs": [],
   "source": [
    "all_positive_tweets = twitter_samples.strings('positive_tweets.json')\n",
    "all_negative_tweets = twitter_samples.strings('negative_tweets.json')"
   ]
  },
  {
   "cell_type": "markdown",
   "metadata": {
    "id": "_Pf2t9YwovQS"
   },
   "source": [
    "**1.3) Make a data frame that has all tweets and their corresponding labels**"
   ]
  },
  {
   "cell_type": "code",
   "execution_count": 3,
   "metadata": {
    "colab": {
     "base_uri": "https://localhost:8080/"
    },
    "id": "icS1WYzaotR0",
    "outputId": "875ac60f-ece7-45ce-9205-c1bbc8eca36c"
   },
   "outputs": [
    {
     "name": "stdout",
     "output_type": "stream",
     "text": [
      "                                               tweet  label\n",
      "0  I love you, how but you? @Taecyeon2pm8 did you...      0\n",
      "1  @mayusushita @dildeewana_ @sonalp2591 @deepti_...      1\n",
      "2  Your love, O Lord, is better than life. :) &lt...      1\n",
      "3  @yasminyasir96 yeah but it will be better if w...      1\n",
      "4  Ok good night I wish troye wasn't ugly and I m...      1\n"
     ]
    }
   ],
   "source": [
    "# Your Code Here\n",
    "positive_df = pd.DataFrame({'tweet': all_positive_tweets, 'label': 1})\n",
    "negative_df = pd.DataFrame({'tweet': all_negative_tweets, 'label': 0})\n",
    "\n",
    "tweets_df = pd.concat([positive_df, negative_df], ignore_index=True)\n",
    "tweets_df = tweets_df.sample(frac=1, random_state=42).reset_index(drop=True)\n",
    "\n",
    "print(tweets_df.head())"
   ]
  },
  {
   "cell_type": "markdown",
   "metadata": {
    "id": "eNDmX7AspKqf"
   },
   "source": [
    "**1.4) Look at the class distribution of the tweets**"
   ]
  },
  {
   "cell_type": "code",
   "execution_count": 4,
   "metadata": {
    "colab": {
     "base_uri": "https://localhost:8080/",
     "height": 561
    },
    "id": "LsjoS15XpKCX",
    "outputId": "61451a4a-3921-46c1-aca1-71a3642c02e9"
   },
   "outputs": [
    {
     "name": "stdout",
     "output_type": "stream",
     "text": [
      "Class Distribution:\n",
      "label\n",
      "0    5000\n",
      "1    5000\n",
      "Name: count, dtype: int64\n"
     ]
    },
    {
     "data": {
      "image/png": "[encoded data removed]",
      "text/plain": [
       "<Figure size 640x480 with 1 Axes>"
      ]
     },
     "metadata": {},
     "output_type": "display_data"
    }
   ],
   "source": [
    "# Your Code Here\n",
    "# Check the distribution of classes (labels)\n",
    "class_distribution = tweets_df['label'].value_counts()\n",
    "print(\"Class Distribution:\")\n",
    "print(class_distribution)\n",
    "\n",
    "import matplotlib.pyplot as plt\n",
    "class_distribution.plot(kind='bar')\n",
    "plt.title(\"Class Distribution of Tweets\")\n",
    "plt.xlabel(\"Sentiment\")\n",
    "plt.ylabel(\"Number of Tweets\")\n",
    "plt.xticks(ticks=[0, 1], labels=['Negative', 'Positive'], rotation=0)\n",
    "plt.show()"
   ]
  },
  {
   "cell_type": "markdown",
   "metadata": {
    "id": "Zc3NxzbppSfP"
   },
   "source": [
    "**1.5) Create a development & test split (80/20 ratio):**"
   ]
  },
  {
   "cell_type": "code",
   "execution_count": 9,
   "metadata": {
    "colab": {
     "base_uri": "https://localhost:8080/"
    },
    "id": "6rZpTxzupHST",
    "outputId": "93b4f3fc-fc9d-4b17-f00a-884e26b4fe43"
   },
   "outputs": [
    {
     "name": "stdout",
     "output_type": "stream",
     "text": [
      "Number of training samples: 8000\n",
      "Number of testing samples: 2000\n"
     ]
    }
   ],
   "source": [
    "# Your Code Here\n",
    "X = tweets_df['tweet']  # Features: the tweets\n",
    "y = tweets_df['label']  # Labels: sentiment (0 or 1)\n",
    "\n",
    "X_dev, X_test, y_dev, y_test = train_test_split(X, y, test_size=0.2, random_state=42, stratify=y)\n",
    "\n",
    "print(f\"Number of training samples: {len(X_dev)}\")\n",
    "print(f\"Number of testing samples: {len(X_test)}\")"
   ]
  },
  {
   "cell_type": "markdown",
   "metadata": {
    "id": "TVviBBgcpXs8"
   },
   "source": [
    "#### **Data preprocessing**\n",
    "We will do some data preprocessing before we tokenize the data. We will remove `#` symbol, hyperlinks, stop words & punctuations from the data. You can use the `re` package in python to find and replace these strings."
   ]
  },
  {
   "cell_type": "markdown",
   "metadata": {
    "id": "3chfxhv2paot"
   },
   "source": [
    "**1.6) Replace the `#` symbol with '' in every tweet**"
   ]
  },
  {
   "cell_type": "code",
   "execution_count": 6,
   "metadata": {
    "id": "Cuw3YTVppXMn"
   },
   "outputs": [],
   "source": [
    "# Your Code Here\n",
    "X_dev = X_dev.str.replace(r'#', '', regex=True)\n",
    "X_test = X_test.str.replace(r'#', '', regex=True)"
   ]
  },
  {
   "cell_type": "markdown",
   "metadata": {
    "id": "-dxaMoVnpgIa"
   },
   "source": [
    "**1.7) Replace hyperlinks with '' in every tweet**"
   ]
  },
  {
   "cell_type": "code",
   "execution_count": 7,
   "metadata": {
    "id": "mElyqruNpVKu"
   },
   "outputs": [],
   "source": [
    "# Your Code Here\n",
    "X_dev = X_dev.str.replace(r'http\\S+|www\\S+', '', regex=True)\n",
    "X_test = X_test.str.replace(r'http\\S+|www\\S+', '', regex=True)"
   ]
  },
  {
   "cell_type": "markdown",
   "metadata": {
    "id": "5cpSOQJ_pjv7"
   },
   "source": [
    "**1.8) Remove all stop words**"
   ]
  },
  {
   "cell_type": "code",
   "execution_count": null,
   "metadata": {
    "id": "WdIhxSWPpjAv"
   },
   "outputs": [],
   "source": [
    "# Your Code Here\n",
    "stop_words = set(stopwords.words('english'))\n",
    "\n",
    "def remove_stop_words(text):\n",
    "    words = word_tokenize(text)\n",
    "    return ' '.join([word for word in words if word.lower() not in stop_words])\n",
    "\n",
    "X_dev = X_dev.apply(remove_stop_words)\n",
    "X_test = X_test.apply(remove_stop_words)"
   ]
  },
  {
   "cell_type": "markdown",
   "metadata": {
    "id": "Bzx9HIQfprGp"
   },
   "source": [
    "**1.9) Remove all punctuations**"
   ]
  },
  {
   "cell_type": "code",
   "execution_count": null,
   "metadata": {
    "id": "h9H9peOOpqmJ"
   },
   "outputs": [],
   "source": [
    "# Your Code Here\n",
    "def remove_punctuation(text):\n",
    "    return text.translate(str.maketrans('', '', string.punctuation))\n",
    "\n",
    "X_dev = X_dev.apply(remove_punctuation)\n",
    "X_test = X_test.apply(remove_punctuation)"
   ]
  },
  {
   "cell_type": "markdown",
   "metadata": {
    "id": "m3h8e1PzpwXv"
   },
   "source": [
    "**1.10) Apply stemming on the development & test datasets using Porter algorithm**"
   ]
  },
  {
   "cell_type": "code",
   "execution_count": null,
   "metadata": {
    "id": "s9Ul1DeMpvww"
   },
   "outputs": [],
   "source": [
    "# Your Code Here\n",
    "stemmer = PorterStemmer()\n",
    "\n",
    "def apply_stemming(text):\n",
    "    words = word_tokenize(text)\n",
    "    return ' '.join([stemmer.stem(word) for word in words])\n",
    "\n",
    "X_dev = X_dev.apply(apply_stemming)\n",
    "X_test = X_test.apply(apply_stemming)"
   ]
  },
  {
   "cell_type": "markdown",
   "metadata": {
    "id": "Zkm3NTKsrcf8"
   },
   "source": [
    "#### **Model training**"
   ]
  },
  {
   "cell_type": "markdown",
   "metadata": {
    "id": "0c40fa44-01ad-4788-98b9-9c8f0c1252ef"
   },
   "source": [
    "**1.11) Create bag of words features for each tweet in the development dataset**"
   ]
  },
  {
   "cell_type": "code",
   "execution_count": null,
   "metadata": {
    "id": "3d34c009"
   },
   "outputs": [],
   "source": [
    "# Your Code Here\n",
    "vectorizer = CountVectorizer()\n",
    "\n",
    "X_dev_bow = vectorizer.fit_transform(X_dev)\n",
    "X_test_bow = vectorizer.transform(X_test)"
   ]
  },
  {
   "cell_type": "markdown",
   "metadata": {
    "id": "4baf65cd-019b-4ff4-b93c-3ca8cfffca8e"
   },
   "source": [
    "**1.12) Train a Logistic Regression model on the development dataset**"
   ]
  },
  {
   "cell_type": "code",
   "execution_count": 20,
   "metadata": {
    "colab": {
     "base_uri": "https://localhost:8080/"
    },
    "id": "3433a6b0-408d-462e-9072-3495b21bc97b",
    "outputId": "d6cbbc37-768f-41d3-eda0-76d175e5caf0"
   },
   "outputs": [
    {
     "name": "stdout",
     "output_type": "stream",
     "text": [
      "Training Accuracy: 0.7545\n"
     ]
    }
   ],
   "source": [
    "# Your Code Here\n",
    "logreg_bow = LogisticRegressionCV(random_state=42)\n",
    "\n",
    "# Train the model on the development dataset\n",
    "logreg_bow.fit(X_dev_bow, y_dev)\n",
    "\n",
    "# Print the training accuracy\n",
    "train_accuracy = logreg_bow.score(X_test_bow, y_test)\n",
    "print(f\"Training Accuracy: {train_accuracy:.4f}\")"
   ]
  },
  {
   "cell_type": "markdown",
   "metadata": {
    "id": "1c16c6f6-7ab2-4d7a-b9dc-098a72381340"
   },
   "source": [
    "**1.13) Create TF-IDF features for each tweet in the development dataset**"
   ]
  },
  {
   "cell_type": "code",
   "execution_count": null,
   "metadata": {
    "id": "7b417843-ffc4-4614-b2ef-964f8ec3e510"
   },
   "outputs": [],
   "source": [
    "# Your Code Here\n",
    "tfidf_vectorizer = TfidfVectorizer()\n",
    "\n",
    "X_dev_tfidf = tfidf_vectorizer.fit_transform(X_dev)\n",
    "X_test_tfidf = tfidf_vectorizer.transform(X_test)"
   ]
  },
  {
   "cell_type": "markdown",
   "metadata": {
    "id": "ea3c9776-aad9-4eda-b3c2-d9f6b3e52427"
   },
   "source": [
    "**1.14) Train the Logistic Regression model on the development dataset with TF-IDF features**"
   ]
  },
  {
   "cell_type": "code",
   "execution_count": 21,
   "metadata": {
    "colab": {
     "base_uri": "https://localhost:8080/"
    },
    "id": "b8c7fe8b-61de-4daa-a338-74295a4902ce",
    "outputId": "abbbd1f1-7503-4033-b0b2-a26b28dd8780"
   },
   "outputs": [
    {
     "name": "stdout",
     "output_type": "stream",
     "text": [
      "Training Accuracy: 0.7625\n"
     ]
    }
   ],
   "source": [
    "# Your Code Here\n",
    "logreg_tfidf = LogisticRegressionCV(random_state=42)\n",
    "\n",
    "# Train the model on the development dataset\n",
    "logreg_tfidf.fit(X_dev_tfidf, y_dev)\n",
    "\n",
    "# Print the training accuracy\n",
    "train_accuracy = logreg_tfidf.score(X_test_tfidf, y_test)\n",
    "print(f\"Training Accuracy: {train_accuracy:.4f}\")"
   ]
  },
  {
   "cell_type": "markdown",
   "metadata": {
    "id": "ab0129e7-a0ea-473e-9ad1-667b44a13a92"
   },
   "source": [
    "**1.15) Compare the performance of the two models on the test dataset using a classification report and the scores obtained. Explain the difference in results obtained.**"
   ]
  },
  {
   "cell_type": "code",
   "execution_count": 22,
   "metadata": {
    "colab": {
     "base_uri": "https://localhost:8080/"
    },
    "id": "C8NwWxJh33G7",
    "outputId": "8ad5d5da-8503-4882-873e-79c5c229d65f"
   },
   "outputs": [
    {
     "name": "stdout",
     "output_type": "stream",
     "text": [
      "Classification Report - Bag of Words Model:\n",
      "              precision    recall  f1-score   support\n",
      "\n",
      "           0       0.73      0.80      0.76      1000\n",
      "           1       0.78      0.71      0.74      1000\n",
      "\n",
      "    accuracy                           0.75      2000\n",
      "   macro avg       0.76      0.75      0.75      2000\n",
      "weighted avg       0.76      0.75      0.75      2000\n",
      "\n",
      "Classification Report - TF-IDF Model:\n",
      "              precision    recall  f1-score   support\n",
      "\n",
      "           0       0.75      0.78      0.77      1000\n",
      "           1       0.77      0.75      0.76      1000\n",
      "\n",
      "    accuracy                           0.76      2000\n",
      "   macro avg       0.76      0.76      0.76      2000\n",
      "weighted avg       0.76      0.76      0.76      2000\n",
      "\n"
     ]
    }
   ],
   "source": [
    "# Your Code Here\n",
    "y_pred_bow = logreg_bow.predict(X_test_bow)\n",
    "y_pred_tfidf = logreg_tfidf.predict(X_test_tfidf)\n",
    "\n",
    "print(\"Classification Report - Bag of Words Model:\")\n",
    "print(classification_report(y_test, y_pred_bow))\n",
    "\n",
    "print(\"Classification Report - TF-IDF Model:\")\n",
    "print(classification_report(y_test, y_pred_tfidf))"
   ]
  },
  {
   "cell_type": "markdown",
   "metadata": {
    "id": "uo7vBVNC-_nK"
   },
   "source": [
    "- Key Differences\n",
    "  - Precision and Recall Trade-offs: The BoW model achieves higher recall for class 0 (negative sentiment), meaning it identifies more true negatives but at the cost of lower precision, indicating a higher false positive rate for class 0. The TF-IDF model balances precision and recall for both classes.\n",
    "\n",
    "  - Accuracy: The overall accuracy improves slightly from 75% (BoW) to 76% (TF-IDF), showing the TF-IDF model generalizes better.\n",
    "\n",
    "  - F1-Scores: The TF-IDF model has higher F1-scores for both classes compared to BoW, indicating better overall performance in balancing precision and recall.\n",
    "\n",
    "- Explanation\n",
    "  - Bag of Words Model: The BoW model focuses solely on word frequencies without considering the importance of each word across the dataset. Commonly occurring but less informative words may dominate the feature space, leading to overfitting or reduced generalization on unseen data. This may explain the slightly higher recall for class 0 but lower precision.\n",
    "\n",
    "  - TF-IDF Model: The TF-IDF model weighs words based on their importance in a specific tweet relative to their frequency across all tweets. This helps reduce the influence of commonly occurring words, making it better at distinguish between positive and negative sentiments. As a result, the TF-IDF model focuses more on distinctive words that contribute meaningfully to the classification task, improving precision and balancing recall. However, the difference is small, indicating that both approaches are effective for this dataset.\n",
    "\n"
   ]
  }
 ],
 "metadata": {
  "colab": {
   "provenance": []
  },
  "kernelspec": {
   "display_name": "Python 3 (ipykernel)",
   "language": "python",
   "name": "python3"
  },
  "language_info": {
   "codemirror_mode": {
    "name": "ipython",
    "version": 3
   },
   "file_extension": ".py",
   "mimetype": "text/x-python",
   "name": "python",
   "nbconvert_exporter": "python",
   "pygments_lexer": "ipython3",
   "version": "3.8.8"
  }
 },
 "nbformat": 4,
 "nbformat_minor": 1
}
